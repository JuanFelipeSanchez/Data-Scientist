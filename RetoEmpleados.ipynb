{
  "nbformat": 4,
  "nbformat_minor": 0,
  "metadata": {
    "colab": {
      "provenance": [],
      "authorship_tag": "ABX9TyNqCUM/Rsy0uhqmqr/d3qve",
      "include_colab_link": true
    },
    "kernelspec": {
      "name": "python3",
      "display_name": "Python 3"
    },
    "language_info": {
      "name": "python"
    }
  },
  "cells": [
    {
      "cell_type": "markdown",
      "metadata": {
        "id": "view-in-github",
        "colab_type": "text"
      },
      "source": [
        "<a href=\"https://colab.research.google.com/github/JuanFelipeSanchez/Data-Scientist/blob/main/RetoEmpleados.ipynb\" target=\"_parent\"><img src=\"https://colab.research.google.com/assets/colab-badge.svg\" alt=\"Open In Colab\"/></a>"
      ]
    },
    {
      "cell_type": "markdown",
      "source": [
        "1.\tImporta las librerías requeridas.\n",
        "2.\tLee el archivo CSV llamado empleadosRETO.csv y coloca los datos en un frame de Pandas llamado EmpleadosAttrition."
      ],
      "metadata": {
        "id": "ktVSKK6wBMue"
      }
    },
    {
      "cell_type": "code",
      "execution_count": 99,
      "metadata": {
        "colab": {
          "base_uri": "https://localhost:8080/",
          "height": 0
        },
        "id": "U5CR9jIW8HQ6",
        "outputId": "0d230354-335b-4dc8-ae69-a03ebcf16c57"
      },
      "outputs": [
        {
          "output_type": "stream",
          "name": "stdout",
          "text": [
            "Drive already mounted at /content/gdrive; to attempt to forcibly remount, call drive.mount(\"/content/gdrive\", force_remount=True).\n"
          ]
        }
      ],
      "source": [
        "#Carga inicial de conexiones, funciones y librerías.\n",
        "from google.colab import drive\n",
        "import pandas as pd\n",
        "from sklearn.decomposition import PCA\n",
        "drive.mount('/content/gdrive')\n",
        "\n",
        "#Lectura del archivo csv.\n",
        "EmpleadosAttrition = pd.read_csv('/content/gdrive/MyDrive/Data Scientist/15. Ingeniería de características/empleadosRETO.csv')"
      ]
    },
    {
      "cell_type": "markdown",
      "source": [
        "3.\tElimina las columnas que, con alta probabilidad (estimada por ti), no tienen relación alguna con la salida. Hay algunas columnas que contienen información que no ayuda a definir el desgaste de un empleado, tal es caso de las siguientes:\n",
        "\n",
        "a.\tEmployeeCount: número de empleados, todos tienen un 1\n",
        "\n",
        "b.\tEmployeeNumber: ID del empleado, el cual es único para cada empleado\n",
        "\n",
        "c.\tOver18: mayores de edad, todos dicen “Y”\n",
        "\n",
        "d.\tStandardHours: horas de trabajo, todos tienen “80”\n"
      ],
      "metadata": {
        "id": "q_pTW24pBtYu"
      }
    },
    {
      "cell_type": "code",
      "source": [
        "#Se eliminan las columnas no relacionadas con la salida. EmployeeCount, EmployeeNumber, Over18, StandardHours.\n",
        "EmpleadosAttrition.drop(['EmployeeCount', 'EmployeeNumber', 'Over18', 'StandardHours'],axis=1,inplace=True)"
      ],
      "metadata": {
        "id": "PQTDIlJeB67j"
      },
      "execution_count": 100,
      "outputs": []
    },
    {
      "cell_type": "markdown",
      "source": [
        "4.\tAnalizando la información proporcionada, detectaste que no se cuenta con los años que el empelado lleva en la compañía y parece ser un buen dato. Dicha cantidad se puede calcular con la fecha de contratación ‘HiringDate’:\n",
        "\n",
        "a.\tCrea una columna llamada Year y obtén el año de contratación del empleado a partir de su fecha ‘HiringDate’. No se te olvide que debe ser un entero.\n",
        "\n",
        "b.\tCrea una columna llamada YearsAtCompany que contenga los años que el empleado lleva en la compañía hasta el año 2018. Para su cálculo, usa la variable Year que acabas de crear.\n"
      ],
      "metadata": {
        "id": "7DrcofpUIegN"
      }
    },
    {
      "cell_type": "code",
      "source": [
        "#Se crea la columna Year. La columna HiringDate se convierte en objeto datetime manejando posibles errores en el formato.\n",
        "EmpleadosAttrition['HiringDate'] = pd.to_datetime(EmpleadosAttrition['HiringDate'], errors='coerce')\n",
        "EmpleadosAttrition['Year'] = EmpleadosAttrition['HiringDate'].dt.year\n",
        "\n",
        "\n",
        "#Se crea la columna YearsAtCompany.\n",
        "EmpleadosAttrition['YearsAtCompany']=2018-EmpleadosAttrition['Year']"
      ],
      "metadata": {
        "id": "ASlCxgDFIsKR"
      },
      "execution_count": 101,
      "outputs": []
    },
    {
      "cell_type": "markdown",
      "source": [
        "5.\tLa DistanceFromHome está dada en kilómetros, pero tiene las letras “km” al final y así no puede ser entera:\n",
        "\n",
        "a.\tRenombra la variable DistanceFromHome a DistanceFromHome_km.\n",
        "\n",
        "b.\tCrea una nueva variable DistanceFromHome que sea entera, es decir, solo con números.\n"
      ],
      "metadata": {
        "id": "nbEW_ofoWwaF"
      }
    },
    {
      "cell_type": "code",
      "source": [
        "#Se renombra la variable DistanceFromHome a DistanceFromHome_km.\n",
        "EmpleadosAttrition.rename(columns={'DistanceFromHome':'DistanceFromHome_km'},inplace=True)\n",
        "\n",
        "#Se crea la variable DistanceFromHome.\n",
        "EmpleadosAttrition['DistanceFromHome']=EmpleadosAttrition['DistanceFromHome_km']\n",
        "EmpleadosAttrition['DistanceFromHome']=EmpleadosAttrition['DistanceFromHome'].str[:2].astype(int)"
      ],
      "metadata": {
        "id": "U5FkZtOiXHOG"
      },
      "execution_count": 102,
      "outputs": []
    },
    {
      "cell_type": "markdown",
      "source": [
        "6.\tBorra las columnas Year, HiringDate y DistanceFromHome_km debido a que ya no son útiles."
      ],
      "metadata": {
        "id": "OsPOfnOqz4-8"
      }
    },
    {
      "cell_type": "code",
      "source": [
        "#Se eliminan las columnas no útiles. Year, HiringDate y DistanceFromHome_km.\n",
        "EmpleadosAttrition.drop(['Year', 'HiringDate', 'DistanceFromHome_km'],axis=1,inplace=True)"
      ],
      "metadata": {
        "id": "VDKvSNNM_sMV"
      },
      "execution_count": 103,
      "outputs": []
    },
    {
      "cell_type": "markdown",
      "source": [
        "7.\tAprovechando los ajustes que se están haciendo, la empresa desea saber si todos los departamentos tienen un ingreso promedio similar. Genera una nuevo frame llamado SueldoPromedioDepto que contenga el MonthlyIncome promedio por departamento de los empleados y colócalo en una variable llamada SueldoPromedio. Esta tabla solo es informativa, no la vas a utilizar en el set de datos que estás construyendo.\n",
        "8.\tLa variable MonthlyIncome tiene un valor numérico muy grande comparada con las otras variables. Escala dicha variable para que tenga un valor entre 0 y 1."
      ],
      "metadata": {
        "id": "qgkEVNqTILRr"
      }
    },
    {
      "cell_type": "code",
      "source": [
        "#Creación de la nueva tabla por agrupación.\n",
        "SueldoPromedioDepto = EmpleadosAttrition.groupby('Department', as_index=False)['MonthlyIncome'].mean()\n",
        "SueldoPromedioDepto['MonthlyIncome'] = SueldoPromedioDepto['MonthlyIncome'].round(1)\n",
        "SueldoPromedioDepto.rename(columns={'MonthlyIncome': 'SueldoPromedio'}, inplace=True)\n",
        "print(SueldoPromedioDepto)\n",
        "\n",
        "#Aplicación de escala de 0 a 1 en la variable MonthlyIncome.\n",
        "EmpleadosAttrition['MonthlyIncome'] = (EmpleadosAttrition['MonthlyIncome'] - EmpleadosAttrition['MonthlyIncome'].min()) / (EmpleadosAttrition['MonthlyIncome'].max() - EmpleadosAttrition['MonthlyIncome'].min())"
      ],
      "metadata": {
        "colab": {
          "base_uri": "https://localhost:8080/",
          "height": 0
        },
        "id": "rgSEBkzsZlsj",
        "outputId": "ff3f6155-7e19-4f41-86f0-485933dc93d2"
      },
      "execution_count": 104,
      "outputs": [
        {
          "output_type": "stream",
          "name": "stdout",
          "text": [
            "               Department  SueldoPromedio\n",
            "0         Human Resources          6239.9\n",
            "1  Research & Development          6804.1\n",
            "2                   Sales          7188.2\n"
          ]
        }
      ]
    },
    {
      "cell_type": "markdown",
      "source": [
        "9.\tTodo parece indicar que las variables categóricas que quedan sí son importantes para obtener la variable de salida. Convierte todas las variables categóricas que quedan a numéricas:\n",
        "\n",
        "BusinessTravel, Department,\tEducationField, Gender, JobRole, MaritalStatus, Attrition"
      ],
      "metadata": {
        "id": "OLEHu5fDlSqN"
      }
    },
    {
      "cell_type": "code",
      "source": [
        "#Validación de las variables categóricas\n",
        "EmpleadosAttrition['BusinessTravel']=EmpleadosAttrition['BusinessTravel'].astype('category')\n",
        "EmpleadosAttrition['Department']=EmpleadosAttrition['Department'].astype('category')\n",
        "EmpleadosAttrition['EducationField']=EmpleadosAttrition['EducationField'].astype('category')\n",
        "EmpleadosAttrition['Gender']=EmpleadosAttrition['Gender'].astype('category')\n",
        "EmpleadosAttrition['JobRole']=EmpleadosAttrition['JobRole'].astype('category')\n",
        "EmpleadosAttrition['MaritalStatus']=EmpleadosAttrition['MaritalStatus'].astype('category')\n",
        "EmpleadosAttrition['Attrition']=EmpleadosAttrition['Attrition'].astype('category')\n",
        "\n",
        "#Transformación de variables\n",
        "EmpleadosAttrition['BusinessTravelNum']=EmpleadosAttrition['BusinessTravel'].cat.codes\n",
        "EmpleadosAttrition['DepartmentNum']=EmpleadosAttrition['Department'].cat.codes\n",
        "EmpleadosAttrition['EducationFieldNum']=EmpleadosAttrition['EducationField'].cat.codes\n",
        "EmpleadosAttrition['GenderNum']=EmpleadosAttrition['Gender'].cat.codes\n",
        "EmpleadosAttrition['JobRoleNum']=EmpleadosAttrition['JobRole'].cat.codes\n",
        "EmpleadosAttrition['MaritalStatusNum']=EmpleadosAttrition['MaritalStatus'].cat.codes\n",
        "EmpleadosAttrition['AttritionNum']=EmpleadosAttrition['Attrition'].cat.codes"
      ],
      "metadata": {
        "id": "UOHwQH0ilZuo"
      },
      "execution_count": 105,
      "outputs": []
    },
    {
      "cell_type": "markdown",
      "source": [],
      "metadata": {
        "id": "JsZJE2LcgIAA"
      }
    },
    {
      "cell_type": "markdown",
      "source": [
        "10.\tAhora debes hacer la evaluación de las variables para quedarte con las mejores. Calcula la correlación lineal de cada una de las variables con respecto al Attrition."
      ],
      "metadata": {
        "id": "Z8aVErocxtmz"
      }
    },
    {
      "cell_type": "code",
      "source": [
        "print(EmpleadosAttrition['AttritionNum'].corr(EmpleadosAttrition['Age']),'Age')\n",
        "print(EmpleadosAttrition['AttritionNum'].corr(EmpleadosAttrition['Education']),'Education')\n",
        "print(EmpleadosAttrition['AttritionNum'].corr(EmpleadosAttrition['EnvironmentSatisfaction']),'EnvironmentSatisfaction')\n",
        "print(EmpleadosAttrition['AttritionNum'].corr(EmpleadosAttrition['JobInvolvement']),'JobInvolvement')\n",
        "print(EmpleadosAttrition['AttritionNum'].corr(EmpleadosAttrition['JobLevel']),'JobLevel')\n",
        "print(EmpleadosAttrition['AttritionNum'].corr(EmpleadosAttrition['JobSatisfaction']),'JobSatisfaction')\n",
        "print(EmpleadosAttrition['AttritionNum'].corr(EmpleadosAttrition['MonthlyIncome']),'MonthlyIncome')\n",
        "print(EmpleadosAttrition['AttritionNum'].corr(EmpleadosAttrition['NumCompaniesWorked']),'NumCompaniesWorked')\n",
        "print(EmpleadosAttrition['AttritionNum'].corr(EmpleadosAttrition['PercentSalaryHike']),'PercentSalaryHike')\n",
        "print(EmpleadosAttrition['AttritionNum'].corr(EmpleadosAttrition['PerformanceRating']),'PerformanceRating')\n",
        "print(EmpleadosAttrition['AttritionNum'].corr(EmpleadosAttrition['RelationshipSatisfaction']),'RelationshipSatisfaction')\n",
        "print(EmpleadosAttrition['AttritionNum'].corr(EmpleadosAttrition['TotalWorkingYears']),'TotalWorkingYears')\n",
        "print(EmpleadosAttrition['AttritionNum'].corr(EmpleadosAttrition['TrainingTimesLastYear']),'TrainingTimesLastYear')\n",
        "print(EmpleadosAttrition['AttritionNum'].corr(EmpleadosAttrition['WorkLifeBalance']),'WorkLifeBalance')\n",
        "print(EmpleadosAttrition['AttritionNum'].corr(EmpleadosAttrition['YearsInCurrentRole']),'YearsInCurrentRole')\n",
        "print(EmpleadosAttrition['AttritionNum'].corr(EmpleadosAttrition['YearsSinceLastPromotion']),'YearsSinceLastPromotion')\n",
        "print(EmpleadosAttrition['AttritionNum'].corr(EmpleadosAttrition['BusinessTravelNum']),'BusinessTravelNum')\n",
        "print(EmpleadosAttrition['AttritionNum'].corr(EmpleadosAttrition['DepartmentNum']),'DepartmentNum')\n",
        "print(EmpleadosAttrition['AttritionNum'].corr(EmpleadosAttrition['EducationFieldNum']),'EducationFieldNum')\n",
        "print(EmpleadosAttrition['AttritionNum'].corr(EmpleadosAttrition['GenderNum']),'GenderNum')\n",
        "print(EmpleadosAttrition['AttritionNum'].corr(EmpleadosAttrition['JobRoleNum']),'JobRoleNum')\n",
        "print(EmpleadosAttrition['AttritionNum'].corr(EmpleadosAttrition['MaritalStatusNum']),'MaritalStatusNum')"
      ],
      "metadata": {
        "colab": {
          "base_uri": "https://localhost:8080/",
          "height": 0
        },
        "id": "kVCTUYHqx_6f",
        "outputId": "26935afc-859b-4fcf-cb0a-74e218f5f32c"
      },
      "execution_count": 106,
      "outputs": [
        {
          "output_type": "stream",
          "name": "stdout",
          "text": [
            "-0.21212111259206842 Age\n",
            "-0.05553079310984968 Education\n",
            "-0.12432694416927641 EnvironmentSatisfaction\n",
            "-0.16678478967808572 JobInvolvement\n",
            "-0.21426604317577613 JobLevel\n",
            "-0.16495679045325196 JobSatisfaction\n",
            "-0.19493601628571225 MonthlyIncome\n",
            "-0.009081775325922558 NumCompaniesWorked\n",
            "-0.06087967966387507 PercentSalaryHike\n",
            "-0.00647103495364531 PerformanceRating\n",
            "-0.03094453065814358 RelationshipSatisfaction\n",
            "-0.21332903741456125 TotalWorkingYears\n",
            "-0.07088383377930298 TrainingTimesLastYear\n",
            "-0.021722932349419282 WorkLifeBalance\n",
            "-0.2039180268902555 YearsInCurrentRole\n",
            "-0.06900034357702403 YearsSinceLastPromotion\n",
            "0.08289944709936396 BusinessTravelNum\n",
            "0.05423584846525848 DepartmentNum\n",
            "0.051184319893178454 EducationFieldNum\n",
            "-0.02883870932201118 GenderNum\n",
            "0.07868359123827778 JobRoleNum\n",
            "0.18040360207821074 MaritalStatusNum\n"
          ]
        }
      ]
    },
    {
      "cell_type": "markdown",
      "source": [
        "11.\tSelecciona solo aquellas variables que tengan una correlación mayor o igual a 0.1, dejándolas en otro frame llamado EmpleadosAttritionFinal. No olvides mantener la variable de salida Attrition; esto es equivalente a borrar las que no cumplen con el límite."
      ],
      "metadata": {
        "id": "oB94XHsYBMAu"
      }
    },
    {
      "cell_type": "code",
      "source": [
        "EmpleadosAttritionFinal = EmpleadosAttrition[['AttritionNum','Age','EnvironmentSatisfaction','JobInvolvement','JobLevel','JobSatisfaction','MonthlyIncome','TotalWorkingYears','YearsInCurrentRole','MaritalStatusNum']]"
      ],
      "metadata": {
        "id": "IGAXdSFN3o-O"
      },
      "execution_count": 107,
      "outputs": []
    },
    {
      "cell_type": "markdown",
      "source": [
        "12.\tCrea una nueva variable llamada EmpleadosAttritionPCA formada por los componentes principales del frame EmpleadosAttritionFinal. Recuerda que el resultado del proceso PCA es un numpy array, por lo que, para hacer referencia a una columna, por ejemplo, la 0, puedes usar la instrucción EmpleadosAttritionPCA[:,0])."
      ],
      "metadata": {
        "id": "06c8i_wfFBOT"
      }
    },
    {
      "cell_type": "code",
      "source": [
        "#Se crea la nueva variable PCA\n",
        "EmpleadosAttritionPCA = EmpleadosAttritionFinal\n",
        "pca = PCA(n_components=0.90)\n",
        "pca.fit(EmpleadosAttritionPCA)\n",
        "\n",
        "print('Varianza explicada por los componentes')\n",
        "print(pca.explained_variance_ratio_)\n",
        "\n",
        "EmpleadosAttritionPCA = pca.transform(EmpleadosAttritionPCA)"
      ],
      "metadata": {
        "colab": {
          "base_uri": "https://localhost:8080/",
          "height": 0
        },
        "id": "Wj530p2hFbFr",
        "outputId": "c38dc7e2-13d7-4444-9b6c-4a356078ebb9"
      },
      "execution_count": 124,
      "outputs": [
        {
          "output_type": "stream",
          "name": "stdout",
          "text": [
            "Varianza explicada por los componentes\n",
            "[0.72843557 0.18126712]\n"
          ]
        }
      ]
    },
    {
      "cell_type": "markdown",
      "source": [
        "13.\tAgrega el mínimo número de Componentes Principales en columnas del frame EmpleadosAttritionPCA que logren explicar el 80% de la varianza, al frame EmpleadosAttritionFinal. Puedes usar la instrucción assign, columna por columna, llamando a cada una C0, C1, etc., hasta las que vayas a agregar."
      ],
      "metadata": {
        "id": "a6qNM5vCTlu-"
      }
    },
    {
      "cell_type": "code",
      "source": [
        "#Determinación de cantidad de componentes necesarios para explicar al menos el 80%\n",
        "varianza_explicada = pca.explained_variance_ratio_\n",
        "varianza_acumulada = varianza_explicada.cumsum()\n",
        "componentes_minimos = (varianza_acumulada >= 0.80).argmax() + 1\n",
        "print('Cantidad de componentes necesarios: ',componentes_minimos)\n",
        "\n",
        "# Seleccionar de componentes principales\n",
        "componentes_seleccionados = EmpleadosAttritionPCA[:, :componentes_minimos]\n",
        "\n",
        "# Crear columnas C0, C1, ..., C(n-1)\n",
        "component_columns = {f'C{i}': componentes_seleccionados[:, i] for i in range(componentes_minimos)}\n",
        "\n",
        "# Agregar los componentes al DataFrame original\n",
        "EmpleadosAttritionFinal = EmpleadosAttritionFinal.assign(**component_columns)"
      ],
      "metadata": {
        "colab": {
          "base_uri": "https://localhost:8080/",
          "height": 0
        },
        "id": "ph20RBcET-Yo",
        "outputId": "e0e202db-ee50-4ac3-f774-c9752f713fd6"
      },
      "execution_count": 133,
      "outputs": [
        {
          "output_type": "stream",
          "name": "stdout",
          "text": [
            "Cantidad de componentes necesarios:  2\n"
          ]
        }
      ]
    },
    {
      "cell_type": "markdown",
      "source": [
        "14.\tGuarda el set de datos que has formado y que tienes en EmpleadosAttritionFinal en un archivo CSV llamado EmpleadosAttritionFinal.csv"
      ],
      "metadata": {
        "id": "tOVS7gZPeOpB"
      }
    },
    {
      "cell_type": "code",
      "source": [
        "from google.colab import files\n",
        "\n",
        "EmpleadosAttritionFinal.to_csv('EmpleadosAttritionFinal.csv', index=False)\n",
        "files.download('EmpleadosAttritionFinal.csv')"
      ],
      "metadata": {
        "colab": {
          "base_uri": "https://localhost:8080/",
          "height": 17
        },
        "id": "A-OuUqWzeSfe",
        "outputId": "f691464d-81a2-484e-acc8-87e7651f3b9b"
      },
      "execution_count": 149,
      "outputs": [
        {
          "output_type": "display_data",
          "data": {
            "text/plain": [
              "<IPython.core.display.Javascript object>"
            ],
            "application/javascript": [
              "\n",
              "    async function download(id, filename, size) {\n",
              "      if (!google.colab.kernel.accessAllowed) {\n",
              "        return;\n",
              "      }\n",
              "      const div = document.createElement('div');\n",
              "      const label = document.createElement('label');\n",
              "      label.textContent = `Downloading \"${filename}\": `;\n",
              "      div.appendChild(label);\n",
              "      const progress = document.createElement('progress');\n",
              "      progress.max = size;\n",
              "      div.appendChild(progress);\n",
              "      document.body.appendChild(div);\n",
              "\n",
              "      const buffers = [];\n",
              "      let downloaded = 0;\n",
              "\n",
              "      const channel = await google.colab.kernel.comms.open(id);\n",
              "      // Send a message to notify the kernel that we're ready.\n",
              "      channel.send({})\n",
              "\n",
              "      for await (const message of channel.messages) {\n",
              "        // Send a message to notify the kernel that we're ready.\n",
              "        channel.send({})\n",
              "        if (message.buffers) {\n",
              "          for (const buffer of message.buffers) {\n",
              "            buffers.push(buffer);\n",
              "            downloaded += buffer.byteLength;\n",
              "            progress.value = downloaded;\n",
              "          }\n",
              "        }\n",
              "      }\n",
              "      const blob = new Blob(buffers, {type: 'application/binary'});\n",
              "      const a = document.createElement('a');\n",
              "      a.href = window.URL.createObjectURL(blob);\n",
              "      a.download = filename;\n",
              "      div.appendChild(a);\n",
              "      a.click();\n",
              "      div.remove();\n",
              "    }\n",
              "  "
            ]
          },
          "metadata": {}
        },
        {
          "output_type": "display_data",
          "data": {
            "text/plain": [
              "<IPython.core.display.Javascript object>"
            ],
            "application/javascript": [
              "download(\"download_de96534b-207d-42bc-a208-9b2101b41421\", \"EmpleadosAttritionFinal.csv\", 30951)"
            ]
          },
          "metadata": {}
        }
      ]
    }
  ]
}